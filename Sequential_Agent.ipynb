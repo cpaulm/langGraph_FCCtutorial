{
 "cells": [
  {
   "cell_type": "markdown",
   "id": "64e2e78a",
   "metadata": {},
   "source": [
    "# Graph III"
   ]
  },
  {
   "cell_type": "code",
   "execution_count": 1,
   "id": "43ebbb0b",
   "metadata": {},
   "outputs": [],
   "source": [
    "from typing import TypedDict # Imports all the data types we need\n",
    "from langgraph.graph import StateGraph"
   ]
  },
  {
   "cell_type": "code",
   "execution_count": 2,
   "id": "95e3b032",
   "metadata": {},
   "outputs": [],
   "source": [
    "class AgentState(TypedDict):\n",
    "    name: str\n",
    "    age: str\n",
    "    final: str"
   ]
  },
  {
   "cell_type": "code",
   "execution_count": 4,
   "id": "70458b39",
   "metadata": {},
   "outputs": [],
   "source": [
    "def first_node(state: AgentState):\n",
    "    \"\"\"This is the first node of our sequence.\"\"\"\n",
    "    \n",
    "    state[\"final\"] = f\"Hi {state[\"name\"]}\"\n",
    "    return state\n",
    "\n",
    "def second_node(state: AgentState):\n",
    "    \"\"\"This is the second node of our sequence.\"\"\"\n",
    "    \n",
    "    state[\"final\"] = state[\"final\"] + f\"You are {state[\"age\"]} years old!\"\n",
    "    \n",
    "    return state\n",
    "    "
   ]
  },
  {
   "cell_type": "code",
   "execution_count": 5,
   "id": "d7b809ce",
   "metadata": {},
   "outputs": [],
   "source": [
    "graph = StateGraph(AgentState)\n",
    "\n",
    "graph.add_node(\"first_node\", first_node)\n",
    "graph.add_node(\"second_node\", second_node)\n",
    "\n",
    "graph.set_entry_point(\"first_node\")\n",
    "graph.add_edge(\"first_node\", \"second_node\")\n",
    "graph.set_finish_point(\"second_node\")\n",
    "app = graph.compile()\n",
    "\n"
   ]
  }
 ],
 "metadata": {
  "kernelspec": {
   "display_name": "Python 3",
   "language": "python",
   "name": "python3"
  },
  "language_info": {
   "codemirror_mode": {
    "name": "ipython",
    "version": 3
   },
   "file_extension": ".py",
   "mimetype": "text/x-python",
   "name": "python",
   "nbconvert_exporter": "python",
   "pygments_lexer": "ipython3",
   "version": "3.12.2"
  }
 },
 "nbformat": 4,
 "nbformat_minor": 5
}
