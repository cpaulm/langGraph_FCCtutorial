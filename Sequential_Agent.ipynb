{
 "cells": [
  {
   "cell_type": "markdown",
   "id": "64e2e78a",
   "metadata": {},
   "source": [
    "# Graph III"
   ]
  },
  {
   "cell_type": "code",
   "execution_count": 12,
   "id": "43ebbb0b",
   "metadata": {},
   "outputs": [],
   "source": [
    "from typing import TypedDict # Imports all the data types we need\n",
    "from langgraph.graph import StateGraph"
   ]
  },
  {
   "cell_type": "code",
   "execution_count": 13,
   "id": "95e3b032",
   "metadata": {},
   "outputs": [],
   "source": [
    "class AgentState(TypedDict):\n",
    "    name: str\n",
    "    age: str\n",
    "    final: str"
   ]
  },
  {
   "cell_type": "code",
   "execution_count": 14,
   "id": "70458b39",
   "metadata": {},
   "outputs": [],
   "source": [
    "def first_node(state: AgentState):\n",
    "    \"\"\"This is the first node of our sequence.\"\"\"\n",
    "    \n",
    "    state[\"final\"] = f\"Hi {state[\"name\"]}!\"\n",
    "    return state\n",
    "\n",
    "def second_node(state: AgentState):\n",
    "    \"\"\"This is the second node of our sequence.\"\"\"\n",
    "    \n",
    "    state[\"final\"] = state[\"final\"] + f\" You are {state[\"age\"]} years old!\"\n",
    "    \n",
    "    return state\n",
    "    "
   ]
  },
  {
   "cell_type": "code",
   "execution_count": 15,
   "id": "d7b809ce",
   "metadata": {},
   "outputs": [],
   "source": [
    "graph = StateGraph(AgentState)\n",
    "\n",
    "graph.add_node(\"first_node\", first_node)\n",
    "graph.add_node(\"second_node\", second_node)\n",
    "\n",
    "graph.set_entry_point(\"first_node\")\n",
    "graph.add_edge(\"first_node\", \"second_node\")\n",
    "graph.set_finish_point(\"second_node\")\n",
    "app = graph.compile()\n",
    "\n"
   ]
  },
  {
   "cell_type": "code",
   "execution_count": 16,
   "id": "4580b51a",
   "metadata": {},
   "outputs": [
    {
     "data": {
      "image/png": "[encoded data removed]",
      "text/plain": [
       "<IPython.core.display.Image object>"
      ]
     },
     "metadata": {},
     "output_type": "display_data"
    }
   ],
   "source": [
    "from IPython.display import Image, display\n",
    "display(Image(app.get_graph().draw_mermaid_png()))"
   ]
  },
  {
   "cell_type": "code",
   "execution_count": 17,
   "id": "69ac8ce3",
   "metadata": {},
   "outputs": [
    {
     "name": "stdout",
     "output_type": "stream",
     "text": [
      "{'name': 'Charlie', 'age': 20, 'final': 'Hi Charlie! You are 20 years old!'}\n"
     ]
    }
   ],
   "source": [
    "result = app.invoke({\"name\": \"Charlie\", \"age\": 20})\n",
    "print(result)"
   ]
  },
  {
   "cell_type": "markdown",
   "id": "067b39a5",
   "metadata": {},
   "source": [
    "# Exercise for Graph III\n",
    "\n",
    "## Your task:\n",
    "\n",
    "1. Accept a user's name, age, and a list of their skills.\n",
    "2. Pass the state through three nodes that:\n",
    "    - **First node:** Personalizes the name field with a greeting.\n",
    "    - **Second node:** Describe's the user's age.\n",
    "    - **Third node:** Lists the user's skills in a formatted string.\n",
    "3. The final output in the result field should be a **combined message** in this format:\n",
    "\n",
    "**Output**: \"Linda, welcome to the system! You are 31 years old! You have skills in: Python, Machine Learning, and LangGraph\"\n",
    "\n",
    "Hint: You will need to use the add_edge method twice.\n",
    "\n"
   ]
  },
  {
   "cell_type": "code",
   "execution_count": 60,
   "id": "01e2751d",
   "metadata": {},
   "outputs": [],
   "source": [
    "class AgentState2(TypedDict):\n",
    "    name: str\n",
    "    age: str\n",
    "    skill: str\n",
    "    final: str\n",
    "    \n",
    "def first_node2(state: AgentState2):\n",
    "    \n",
    "    state[\"final\"] = f\"{state[\"name\"]}, welcome to the system!\"\n",
    "    return state\n",
    "    \n",
    "def second_node2(state: AgentState2):\n",
    "    \n",
    "    state[\"final\"] = state[\"final\"] + f\" You are {state[\"age\"]} years old!\"\n",
    "    return state\n",
    "\n",
    "def third_node2(state: AgentState2):\n",
    "    \n",
    "    state[\"final\"] = state[\"final\"] + f\" You have skills in: {\", \".join(state[\"skill\"])}\"\n",
    "    return state"
   ]
  },
  {
   "cell_type": "code",
   "execution_count": 61,
   "id": "c91c8b1f",
   "metadata": {},
   "outputs": [],
   "source": [
    "graph2 = StateGraph(AgentState2)\n",
    "\n",
    "graph2.add_node(\"first_node2\", first_node2)\n",
    "graph2.add_node(\"second_node2\", second_node2)\n",
    "graph2.add_node(\"third_node2\", third_node2)\n",
    "\n",
    "graph2.set_entry_point(\"first_node2\")\n",
    "graph2.add_edge(\"first_node2\",\"second_node2\")\n",
    "graph2.add_edge(\"second_node2\",\"third_node2\")\n",
    "graph2.set_finish_point(\"third_node2\")\n",
    "\n",
    "app2 = graph2.compile()\n"
   ]
  },
  {
   "cell_type": "code",
   "execution_count": 62,
   "id": "0580ea34",
   "metadata": {},
   "outputs": [
    {
     "data": {
      "image/png": "[encoded data removed]",
      "text/plain": [
       "<IPython.core.display.Image object>"
      ]
     },
     "metadata": {},
     "output_type": "display_data"
    }
   ],
   "source": [
    "display(Image(app2.get_graph().draw_mermaid_png()))"
   ]
  },
  {
   "cell_type": "code",
   "execution_count": 63,
   "id": "3494de16",
   "metadata": {},
   "outputs": [
    {
     "data": {
      "text/plain": [
       "'Linda, welcome to the system! You are 31 years old! You have skills in: Python, Machine Learning, LangGraph'"
      ]
     },
     "execution_count": 63,
     "metadata": {},
     "output_type": "execute_result"
    }
   ],
   "source": [
    "result = app2.invoke({\"name\": \"Linda\", \"age\": 31, \"skill\": [\"Python\", \"Machine Learning\", \"LangGraph\"]})\n",
    "result[\"final\"]"
   ]
  }
 ],
 "metadata": {
  "kernelspec": {
   "display_name": "Python 3",
   "language": "python",
   "name": "python3"
  },
  "language_info": {
   "codemirror_mode": {
    "name": "ipython",
    "version": 3
   },
   "file_extension": ".py",
   "mimetype": "text/x-python",
   "name": "python",
   "nbconvert_exporter": "python",
   "pygments_lexer": "ipython3",
   "version": "3.12.2"
  }
 },
 "nbformat": 4,
 "nbformat_minor": 5
}
