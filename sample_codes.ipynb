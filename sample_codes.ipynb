{
 "cells": [
  {
   "cell_type": "code",
   "execution_count": 1,
   "id": "d9d1cfe3",
   "metadata": {},
   "outputs": [
    {
     "data": {
      "text/plain": [
       "True"
      ]
     },
     "execution_count": 1,
     "metadata": {},
     "output_type": "execute_result"
    }
   ],
   "source": [
    "from typing import Annotated, Sequence, TypedDict\n",
    "from dotenv import load_dotenv\n",
    "from langchain_core.messages import BaseMessage # The foundational class for all message types in LangGraph\n",
    "from langchain_core.messages import ToolMessage # Passes data back to LLM after it calls a tool such as the content and the tool_call_id\n",
    "from langchain_core.messages import SystemMessage # Message for providing instructions to the LLM\n",
    "from langchain_openai import ChatOpenAI\n",
    "from langchain_core.tools import tool\n",
    "from langgraph.graph.message import add_messages\n",
    "from langgraph.graph import StateGraph, END\n",
    "from langgraph.prebuilt import ToolNode\n",
    "\n",
    "load_dotenv()\n",
    "\n",
    "# Annotated - provides additional context without affecting the type itself\n",
    "# Sequence - To automatically handle the state updates for sequences such as by adding new messages to a chat history\n",
    "\n"
   ]
  },
  {
   "cell_type": "code",
   "execution_count": null,
   "id": "a924ec99",
   "metadata": {},
   "outputs": [],
   "source": [
    "# Reducer Function\n",
    "# Rule that controls how updates from nodes are combined with the existing state\n",
    "# Tells us how to merge new data into the current state\n",
    "\n",
    "# Without a reducer, updates would have replaced the existing value entirely!\n",
    "\n",
    "# Examples: Without a reducer, overwrites the state/value completely\n",
    "state = {\"messages\" : [\"Hi!\"]}\n",
    "update = {\"messages\" : [\"Nice to meet you!\"]}\n",
    "new_state = {\"messages\" : [\"Nice to meet you!\"]}\n",
    "\n",
    "# Examples: With a reducer, updates will be appended\n",
    "state = {\"messages\" : [\"Hi!\"]}\n",
    "update = {\"messages\" : [\"Nice to meet you!\"]}\n",
    "new_state = {\"messages\" : [\"Hi!\", \"Nice to meet you!\"]}"
   ]
  }
 ],
 "metadata": {
  "kernelspec": {
   "display_name": ".venv",
   "language": "python",
   "name": "python3"
  },
  "language_info": {
   "codemirror_mode": {
    "name": "ipython",
    "version": 3
   },
   "file_extension": ".py",
   "mimetype": "text/x-python",
   "name": "python",
   "nbconvert_exporter": "python",
   "pygments_lexer": "ipython3",
   "version": "3.12.2"
  }
 },
 "nbformat": 4,
 "nbformat_minor": 5
}
